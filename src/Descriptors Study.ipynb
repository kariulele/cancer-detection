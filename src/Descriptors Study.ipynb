{
 "cells": [
  {
   "cell_type": "code",
   "execution_count": null,
   "metadata": {},
   "outputs": [],
   "source": [
    "import cv2\n",
    "import skimage as ski\n",
    "import skimage.io as scio\n",
    "import numpy as np\n",
    "import scipy as sp\n",
    "import imageio\n",
    "import matplotlib.pyplot as plt\n",
    "%matplotlib inline\n",
    "import csv\n",
    "import math\n",
    "from skimage.filters import threshold_sauvola as sauvola\n",
    "import sklearn.metrics.pairwise as skmetrics\n",
    "from sklearn.cluster import KMeans, MiniBatchKMeans\n",
    "import sklearn"
   ]
  },
  {
   "cell_type": "code",
   "execution_count": null,
   "metadata": {},
   "outputs": [],
   "source": [
    "from ImageLoader import *\n",
    "from featureExtractor import *"
   ]
  },
  {
   "cell_type": "markdown",
   "metadata": {},
   "source": [
    "## Calculate all the AKAZE features"
   ]
  },
  {
   "cell_type": "code",
   "execution_count": null,
   "metadata": {},
   "outputs": [],
   "source": [
    "features = [ np.array(image_to_feature(i.content)) for i in storage.allList ]\n",
    "features = np.array(features)"
   ]
  },
  {
   "cell_type": "code",
   "execution_count": null,
   "metadata": {},
   "outputs": [],
   "source": [
    "features[0]"
   ]
  },
  {
   "cell_type": "markdown",
   "metadata": {},
   "source": [
    "Remove **empty** features."
   ]
  },
  {
   "cell_type": "code",
   "execution_count": null,
   "metadata": {},
   "outputs": [],
   "source": [
    "def rejectNAN(features):\n",
    "    feat = [] # features\n",
    "    rejects = [] # rejected index\n",
    "    for ii, f in enumerate(features):\n",
    "        if f.any():\n",
    "            feat.append(f)\n",
    "        else:\n",
    "            rejects.append(ii)\n",
    "    return feat, rejects"
   ]
  },
  {
   "cell_type": "code",
   "execution_count": null,
   "metadata": {},
   "outputs": [],
   "source": [
    "features, rejects = rejectNAN(features)"
   ]
  },
  {
   "cell_type": "code",
   "execution_count": null,
   "metadata": {},
   "outputs": [],
   "source": [
    "features[0]"
   ]
  },
  {
   "cell_type": "markdown",
   "metadata": {},
   "source": [
    "## Create lists \n",
    "- **ALL**: All imgs\n",
    "- **ALL_CANCER**: All cancerous images\n",
    "- **ALL_BENIN**: All Benin images\n",
    "- **ALL_AKAZE_CANCER**: All akaze descr for cancerous images\n",
    "- **ALL_AKAZE_BENIN**: All akaze descr for benin images"
   ]
  },
  {
   "cell_type": "code",
   "execution_count": null,
   "metadata": {},
   "outputs": [],
   "source": [
    "ALL = []\n",
    "for i in range(len(storage.allList)):\n",
    "    if i in rejects:\n",
    "        continue\n",
    "    ALL.append(storage.allList[i])\n",
    "    \n",
    "ALL_CANCER = [ i for i in ALL if i.is_cancer ]\n",
    "ALL_BENIN  = [ i for i in ALL if not i.is_cancer ]\n",
    "ALL_AKAZE_CANCER = [ features[i] for i in range(len(ALL)) if ALL[i].is_cancer ]\n",
    "ALL_AKAZE_BENIN  = [ features[i]  for i in range(len(ALL)) if not ALL[i].is_cancer ]"
   ]
  },
  {
   "cell_type": "code",
   "execution_count": null,
   "metadata": {},
   "outputs": [],
   "source": [
    "len(ALL_CANCER), len(ALL_BENIN), len(ALL_AKAZE_CANCER), len(ALL_AKAZE_BENIN)"
   ]
  },
  {
   "cell_type": "markdown",
   "metadata": {},
   "source": [
    "## Pre-process the AKAZE"
   ]
  },
  {
   "cell_type": "code",
   "execution_count": null,
   "metadata": {},
   "outputs": [],
   "source": [
    "def preprocess_akaze(features):\n",
    "    train_desc = np.concatenate(features, axis=None).reshape(-1, 61)\n",
    "    train_mean = np.mean(train_desc, axis = 0)\n",
    "    display(train_mean, train_desc)\n",
    "    train_desc = train_desc - train_mean\n",
    "    return train_desc"
   ]
  },
  {
   "cell_type": "code",
   "execution_count": null,
   "metadata": {},
   "outputs": [],
   "source": [
    "train_desc = preprocess_akaze(features)"
   ]
  },
  {
   "cell_type": "markdown",
   "metadata": {},
   "source": [
    "## Kmeans\n",
    "Create 128 centers.  \n",
    "Compute histogram for each descr"
   ]
  },
  {
   "cell_type": "code",
   "execution_count": null,
   "metadata": {},
   "outputs": [],
   "source": [
    "kmeans = MiniBatchKMeans(n_clusters=128, batch_size=128, random_state=0)\n",
    "kmeans.fit(train_desc)\n",
    "kmeans.cluster_centers_"
   ]
  },
  {
   "cell_type": "code",
   "execution_count": null,
   "metadata": {},
   "outputs": [],
   "source": [
    "kmeans.cluster_centers_.shape"
   ]
  },
  {
   "cell_type": "code",
   "execution_count": null,
   "metadata": {},
   "outputs": [],
   "source": [
    "cancer_image_descr = [ np.histogram(kmeans.predict(desc), bins=128)[0] for desc in ALL_AKAZE_CANCER ]\n",
    "benin_image_descr = [ np.histogram(kmeans.predict(desc), bins=128)[0] for desc in ALL_AKAZE_BENIN ]"
   ]
  },
  {
   "cell_type": "code",
   "execution_count": null,
   "metadata": {},
   "outputs": [],
   "source": [
    "cancer_image_descr"
   ]
  },
  {
   "cell_type": "code",
   "execution_count": null,
   "metadata": {},
   "outputs": [],
   "source": [
    "np.shape(cancer_image_descr), np.shape(benin_image_descr)"
   ]
  },
  {
   "cell_type": "markdown",
   "metadata": {},
   "source": [
    "## Prepare Data for fit"
   ]
  },
  {
   "cell_type": "code",
   "execution_count": null,
   "metadata": {},
   "outputs": [],
   "source": [
    "minSize = min(len(ALL_CANCER), len(ALL_BENIN))\n",
    "indexes = np.random.choice(np.arange(minSize), minSize).astype(int)\n",
    "CANCER = np.array(ALL_CANCER)[indexes]\n",
    "BENIN = np.array(ALL_BENIN)[indexes]\n",
    "CANCER_AKAZE = np.array(cancer_image_descr)[indexes]\n",
    "BENIN_AKAZE = np.array(benin_image_descr)[indexes]"
   ]
  },
  {
   "cell_type": "code",
   "execution_count": null,
   "metadata": {},
   "outputs": [],
   "source": [
    "(train_imgs_cancer, val_imgs_cancer,\n",
    " train_akaze_cancer, val_akaze_cancer,\n",
    " train_imgs_benin, val_imgs_benin,\n",
    " train_akaze_benin, val_akaze_benin) = sklearn.model_selection.train_test_split(\n",
    "    CANCER, CANCER_AKAZE, BENIN, BENIN_AKAZE\n",
    ")\n",
    "display((len(train_imgs_cancer), len(val_imgs_cancer), len(train_akaze_cancer), len(val_akaze_cancer)))\n",
    "display((len(train_imgs_benin), len(val_imgs_benin), len(train_akaze_benin), len(val_akaze_benin)))"
   ]
  },
  {
   "cell_type": "code",
   "execution_count": null,
   "metadata": {},
   "outputs": [],
   "source": [
    "x_train = np.vstack((train_akaze_cancer, train_akaze_benin))\n",
    "y_train = np.vstack((np.zeros(len(train_akaze_cancer)), np.ones(len(train_akaze_benin)))).reshape(-1,)\n",
    "x_train.shape"
   ]
  },
  {
   "cell_type": "code",
   "execution_count": null,
   "metadata": {},
   "outputs": [],
   "source": [
    "x_val = np.vstack((val_akaze_cancer, val_akaze_benin))\n",
    "y_val = np.vstack((np.zeros(len(val_akaze_cancer)), np.ones(len(val_akaze_benin)))).reshape(-1,)\n",
    "x_val.shape"
   ]
  },
  {
   "cell_type": "markdown",
   "metadata": {},
   "source": [
    "## Fit using SVC"
   ]
  },
  {
   "cell_type": "code",
   "execution_count": null,
   "metadata": {},
   "outputs": [],
   "source": [
    "from sklearn.svm import SVC, LinearSVC, LinearSVR, NuSVC\n",
    "clf = SVC(kernel='linear', random_state=0, tol=1e-5, C=0.5)"
   ]
  },
  {
   "cell_type": "code",
   "execution_count": null,
   "metadata": {},
   "outputs": [],
   "source": [
    "clf.fit(x_train, y_train)"
   ]
  },
  {
   "cell_type": "code",
   "execution_count": null,
   "metadata": {},
   "outputs": [],
   "source": [
    "result = clf.score(x_val, y_val)\n",
    "result"
   ]
  },
  {
   "cell_type": "markdown",
   "metadata": {},
   "source": [
    "## Display Images"
   ]
  },
  {
   "cell_type": "code",
   "execution_count": null,
   "metadata": {},
   "outputs": [],
   "source": [
    "from matplotlib.image import imread\n",
    "\n",
    "nelem = 17   # number of elements to show\n",
    "\n",
    "def show_image(img, frame_color, gray=True):\n",
    "    plt.imshow(img)\n",
    "#     if gray:\n",
    "#         plt.imshow(im, cmap='gray')\n",
    "#     else:\n",
    "#         plt.imshow(im)\n",
    "    h, w = img.shape[:2]\n",
    "    plt.plot([0, 0, w, w, 0], [0, h, h, 0, 0], frame_color, linewidth = 2)\n",
    "    plt.axis('off')\n",
    "\n",
    "# reduce the margins\n",
    "plt.subplots_adjust(wspace = 0, hspace = 0,\n",
    "                    top = 0.99, bottom = 0.01, left = 0.01, right = 0.99)\n",
    "\n",
    "plt.figure(figsize=(10,40))\n",
    "no = 1  # index current of subfigure\n",
    "for ii in range(nelem):\n",
    "    plt.subplot(nelem, 2, 2*ii+1)\n",
    "    val_img_i = val_imgs_cancer[ii]\n",
    "    x_val_i = val_akaze_cancer[ii]\n",
    "    y_pred_i = clf.predict(x_val_i.reshape(1,-1))\n",
    "    expected = 0; classname = \"CANCER\"\n",
    "    show_image(val_img_i.content, 'g' if y_pred_i == expected else 'r')\n",
    "    plt.title(classname + \" \" + (\"OK\" if y_pred_i == expected else \"ERR\"))\n",
    "    \n",
    "    plt.subplot(nelem, 2, 2*ii+2)\n",
    "    val_img_i = val_imgs_benin[ii]\n",
    "    x_val_i = val_akaze_benin[ii]\n",
    "    y_pred_i = clf.predict(x_val_i.reshape(1,-1))\n",
    "    expected = 1; classname = \"BENIN\"\n",
    "    show_image(val_img_i.content, 'g' if y_pred_i == expected else 'r')\n",
    "    plt.title(classname + \" \" + (\"OK\" if y_pred_i == expected else \"ERR\"))\n",
    "\n",
    "plt.show()"
   ]
  },
  {
   "cell_type": "markdown",
   "metadata": {},
   "source": [
    "## Create output array of the results"
   ]
  },
  {
   "cell_type": "code",
   "execution_count": null,
   "metadata": {},
   "outputs": [],
   "source": [
    "results = []\n",
    "for ii, (x, y) in enumerate(zip(x_val, y_val)):\n",
    "    p = clf.predict(x.reshape(1,-1))\n",
    "    results.append([p, p == y])\n",
    "results"
   ]
  },
  {
   "cell_type": "code",
   "execution_count": null,
   "metadata": {},
   "outputs": [],
   "source": []
  }
 ],
 "metadata": {
  "kernelspec": {
   "display_name": "Python 3",
   "language": "python",
   "name": "python3"
  },
  "language_info": {
   "codemirror_mode": {
    "name": "ipython",
    "version": 3
   },
   "file_extension": ".py",
   "mimetype": "text/x-python",
   "name": "python",
   "nbconvert_exporter": "python",
   "pygments_lexer": "ipython3",
   "version": "3.6.8"
  }
 },
 "nbformat": 4,
 "nbformat_minor": 2
}
